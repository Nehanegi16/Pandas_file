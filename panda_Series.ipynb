{
  "nbformat": 4,
  "nbformat_minor": 0,
  "metadata": {
    "colab": {
      "provenance": [],
      "authorship_tag": "ABX9TyNycjrFMNOHedmZ1opvCRnx",
      "include_colab_link": true
    },
    "kernelspec": {
      "name": "python3",
      "display_name": "Python 3"
    },
    "language_info": {
      "name": "python"
    }
  },
  "cells": [
    {
      "cell_type": "markdown",
      "metadata": {
        "id": "view-in-github",
        "colab_type": "text"
      },
      "source": [
        "<a href=\"https://colab.research.google.com/github/Nehanegi16/Pandas_file/blob/master/panda_Series.ipynb\" target=\"_parent\"><img src=\"https://colab.research.google.com/assets/colab-badge.svg\" alt=\"Open In Colab\"/></a>"
      ]
    },
    {
      "cell_type": "code",
      "execution_count": null,
      "metadata": {
        "id": "2kMhhJBol9i8"
      },
      "outputs": [],
      "source": [
        "import numpy as np\n",
        "import pandas as pd"
      ]
    },
    {
      "cell_type": "code",
      "source": [
        "#Write a Pandas program to create and display a one-dimensional array-like object containing an array of data using Pandas module.\n",
        "p1=pd.Series([1,2,4,5,6,78])\n",
        "p1"
      ],
      "metadata": {
        "colab": {
          "base_uri": "https://localhost:8080/"
        },
        "id": "7eXAij-lmWOD",
        "outputId": "55f38ea9-d240-4f87-d379-1fbf21d701e7"
      },
      "execution_count": null,
      "outputs": [
        {
          "output_type": "execute_result",
          "data": {
            "text/plain": [
              "0     1\n",
              "1     2\n",
              "2     4\n",
              "3     5\n",
              "4     6\n",
              "5    78\n",
              "dtype: int64"
            ]
          },
          "metadata": {},
          "execution_count": 7
        }
      ]
    },
    {
      "cell_type": "code",
      "source": [
        "#2. Write a Pandas program to convert a Panda module Series to Python list and it's type.\n",
        "p1.tolist()"
      ],
      "metadata": {
        "colab": {
          "base_uri": "https://localhost:8080/"
        },
        "id": "0vaxRAm3mWRN",
        "outputId": "e0676264-9807-4d28-dddd-a2398b6fa6a2"
      },
      "execution_count": null,
      "outputs": [
        {
          "output_type": "execute_result",
          "data": {
            "text/plain": [
              "[1, 2, 4, 5, 6, 78]"
            ]
          },
          "metadata": {},
          "execution_count": 8
        }
      ]
    },
    {
      "cell_type": "code",
      "source": [
        "#3. Write a Pandas program to add, subtract, multiple and divide two Pandas Series.\n",
        "a=pd.Series([2, 4, 6, 8, 10])\n",
        "b=pd.Series([1, 3, 5, 7, 9])\n",
        "\n",
        "print(a+b)\n",
        "print(a-b)\n",
        "print(a*b)\n",
        "print(a/b)"
      ],
      "metadata": {
        "colab": {
          "base_uri": "https://localhost:8080/"
        },
        "id": "Yztlz4i4mWT4",
        "outputId": "b2f299e9-5061-4542-af06-9c652b61b8c1"
      },
      "execution_count": null,
      "outputs": [
        {
          "output_type": "stream",
          "name": "stdout",
          "text": [
            "0     3\n",
            "1     7\n",
            "2    11\n",
            "3    15\n",
            "4    19\n",
            "dtype: int64\n",
            "0    1\n",
            "1    1\n",
            "2    1\n",
            "3    1\n",
            "4    1\n",
            "dtype: int64\n",
            "0     2\n",
            "1    12\n",
            "2    30\n",
            "3    56\n",
            "4    90\n",
            "dtype: int64\n",
            "0    2.000000\n",
            "1    1.333333\n",
            "2    1.200000\n",
            "3    1.142857\n",
            "4    1.111111\n",
            "dtype: float64\n"
          ]
        }
      ]
    },
    {
      "cell_type": "code",
      "source": [
        "#4.Write a Pandas program to compare the elements of the two Pandas Series.\n",
        "# Sample Series: [2, 4, 6, 8, 10], [1, 3, 5, 7, 10]\n",
        "a=pd.Series([2, 4, 6, 8, 10])\n",
        "b=pd.Series([1, 3, 5, 7, 9])\n",
        "\n",
        "print(a>b)\n",
        "print(a==b)\n",
        "print(a<b)\n"
      ],
      "metadata": {
        "colab": {
          "base_uri": "https://localhost:8080/"
        },
        "id": "4xp6co4LmWW4",
        "outputId": "beae62b0-69c0-4636-c0a6-78c9bfa22025"
      },
      "execution_count": null,
      "outputs": [
        {
          "output_type": "stream",
          "name": "stdout",
          "text": [
            "0    True\n",
            "1    True\n",
            "2    True\n",
            "3    True\n",
            "4    True\n",
            "dtype: bool\n",
            "0    False\n",
            "1    False\n",
            "2    False\n",
            "3    False\n",
            "4    False\n",
            "dtype: bool\n",
            "0    False\n",
            "1    False\n",
            "2    False\n",
            "3    False\n",
            "4    False\n",
            "dtype: bool\n"
          ]
        }
      ]
    },
    {
      "cell_type": "code",
      "source": [
        "#5.Write a Pandas program to convert a dictionary to a Pandas series.\n",
        "data={'a':100,'b':200,'c':450,'d':600}\n",
        "convert=pd.Series(data)\n",
        "convert"
      ],
      "metadata": {
        "colab": {
          "base_uri": "https://localhost:8080/"
        },
        "id": "BXq60zwlmWaD",
        "outputId": "01ec6b60-9858-42f1-b3f8-8f2faeca94ca"
      },
      "execution_count": null,
      "outputs": [
        {
          "output_type": "execute_result",
          "data": {
            "text/plain": [
              "a    100\n",
              "b    200\n",
              "c    450\n",
              "d    600\n",
              "dtype: int64"
            ]
          },
          "metadata": {},
          "execution_count": 22
        }
      ]
    },
    {
      "cell_type": "code",
      "source": [
        "#6. Write a Pandas program to convert a NumPy array to a Pandas series.\n",
        "num_array=np.array([1,2,3,4,6,7,90])\n",
        "to_pd_series=pd.Series(num_array)\n",
        "to_pd_series"
      ],
      "metadata": {
        "colab": {
          "base_uri": "https://localhost:8080/"
        },
        "id": "Utno-2b0mWdb",
        "outputId": "21740aef-0803-4636-8de1-0d62b40ff788"
      },
      "execution_count": null,
      "outputs": [
        {
          "output_type": "execute_result",
          "data": {
            "text/plain": [
              "0     1\n",
              "1     2\n",
              "2     3\n",
              "3     4\n",
              "4     6\n",
              "5     7\n",
              "6    90\n",
              "dtype: int64"
            ]
          },
          "metadata": {},
          "execution_count": 24
        }
      ]
    },
    {
      "cell_type": "code",
      "source": [
        "#7. Write a Pandas program to change the data type of given a column or a Series.\n",
        "dtseries=pd.Series([100,300,400,'python',900,500])\n",
        "dtseries\n",
        "change_datatype=pd.to_numeric(dtseries, errors='coerce')\n",
        "change_datatype\n"
      ],
      "metadata": {
        "colab": {
          "base_uri": "https://localhost:8080/"
        },
        "id": "gK4PPekSrSFU",
        "outputId": "08862101-bf92-4b18-ea57-dfdd260cab83"
      },
      "execution_count": null,
      "outputs": [
        {
          "output_type": "execute_result",
          "data": {
            "text/plain": [
              "0    100.0\n",
              "1    300.0\n",
              "2    400.0\n",
              "3      NaN\n",
              "4    900.0\n",
              "5    500.0\n",
              "dtype: float64"
            ]
          },
          "metadata": {},
          "execution_count": 36
        }
      ]
    },
    {
      "cell_type": "code",
      "source": [
        "#8. Write a Pandas program to convert the first column of a DataFrame as a Series.\n",
        "data={\n",
        "    \"col1\":[1,2,3,4,5,6,7,8,9],\n",
        "    \"col2\":[10,20,30,40,50,60,70,80,90],\n",
        "    \"col3\":[34,59,69,60,66,70,55,67,40]\n",
        "}\n",
        "con=pd.DataFrame(data)\n",
        "con.iloc[::,0]"
      ],
      "metadata": {
        "colab": {
          "base_uri": "https://localhost:8080/"
        },
        "id": "ZQrTgB-PrSHv",
        "outputId": "fa080ee2-cdce-46ca-82d6-31f577db2af4"
      },
      "execution_count": null,
      "outputs": [
        {
          "output_type": "execute_result",
          "data": {
            "text/plain": [
              "0    10\n",
              "1    20\n",
              "2    30\n",
              "3    40\n",
              "4    50\n",
              "5    60\n",
              "6    70\n",
              "7    80\n",
              "8    90\n",
              "Name: col2, dtype: int64"
            ]
          },
          "metadata": {},
          "execution_count": 44
        }
      ]
    },
    {
      "cell_type": "code",
      "source": [
        "# 9. Write a Pandas program to convert a given Series to an array.\n",
        "data=pd.Series([1,3,5,8,9,23])\n",
        "covert=data.values\n",
        "covert\n"
      ],
      "metadata": {
        "id": "HKOh8m3_rSKk",
        "colab": {
          "base_uri": "https://localhost:8080/"
        },
        "outputId": "9ebe0337-6cdb-46c5-bd78-f02f7d31d705"
      },
      "execution_count": null,
      "outputs": [
        {
          "output_type": "execute_result",
          "data": {
            "text/plain": [
              "array([ 1,  3,  5,  8,  9, 23])"
            ]
          },
          "metadata": {},
          "execution_count": 7
        }
      ]
    },
    {
      "cell_type": "code",
      "source": [
        "# 10. Write a Pandas program to convert Series of lists to one Series.\n",
        "# Sample Output:\n",
        "# Original Series of list\n",
        "# 0    [Red, Green, White]\n",
        "# 1           [Red, Black]\n",
        "# 2               [Yellow]\n",
        "# dtype: object\n",
        "# One Series\n",
        "# 0       Red\n",
        "# 1     Green\n",
        "# 2     White\n",
        "# 3       Red\n",
        "# 4     Black\n",
        "# 5    Yellow\n",
        "s = pd.Series([\n",
        "    ['Red', 'Green', 'White'],\n",
        "    ['Red', 'Black'],\n",
        "    ['Yellow']])\n",
        "\n",
        "s = s.apply(pd.Series).stack().reset_index(drop=True)\n",
        "print(\"One Series\")\n",
        "print(s)"
      ],
      "metadata": {
        "id": "qjsDQUuFrSNX",
        "colab": {
          "base_uri": "https://localhost:8080/"
        },
        "outputId": "26a52a51-c574-4c2e-a46d-fdaf875c88fc"
      },
      "execution_count": null,
      "outputs": [
        {
          "output_type": "stream",
          "name": "stdout",
          "text": [
            "One Series\n",
            "0       Red\n",
            "1     Green\n",
            "2     White\n",
            "3       Red\n",
            "4     Black\n",
            "5    Yellow\n",
            "dtype: object\n"
          ]
        }
      ]
    },
    {
      "cell_type": "code",
      "source": [
        "# 11. Write a Pandas program to sort a given Series.\n",
        "# Sample Output:\n",
        "# Original Data Series:\n",
        "# 0       100\n",
        "# 1       200\n",
        "# 2    python\n",
        "# 3    300.12\n",
        "# 4       400\n",
        "# dtype: object\n",
        "# 0       100\n",
        "# 1       200\n",
        "# 3    300.12\n",
        "# 4       400\n",
        "# 2    python\n",
        "# dtype: object\n",
        "\n",
        "import pandas as pd\n",
        "\n",
        "\n",
        "s = pd.Series(['100', '200', 'python', '300.12', '400'])\n",
        "print(\"Original Data Series:\")\n",
        "print(s)\n",
        "new_s = pd.Series(s).sort_values()\n",
        "print(new_s)\n"
      ],
      "metadata": {
        "id": "iuSDZp4ZrSQy",
        "colab": {
          "base_uri": "https://localhost:8080/"
        },
        "outputId": "54434947-661e-4534-d2d2-43b5e46a110d"
      },
      "execution_count": null,
      "outputs": [
        {
          "output_type": "stream",
          "name": "stdout",
          "text": [
            "Original Data Series:\n",
            "0       100\n",
            "1       200\n",
            "2    python\n",
            "3    300.12\n",
            "4       400\n",
            "dtype: object\n",
            "0       100\n",
            "1       200\n",
            "3    300.12\n",
            "4       400\n",
            "2    python\n",
            "dtype: object\n"
          ]
        }
      ]
    },
    {
      "cell_type": "code",
      "source": [
        "# 14. Write a Pandas program to change the order of index of a given series.\n",
        "# Sample Output:\n",
        "# Original Data Series:\n",
        "# A    1\n",
        "# B    2\n",
        "# C    3\n",
        "# D    4\n",
        "# E    5\n",
        "# dtype: int64\n",
        "# Data Series after changing the order of index:\n",
        "# B    2\n",
        "# A    1\n",
        "# C    3\n",
        "# D    4\n",
        "# E    5\n",
        "# dtype: int64\n",
        "data={'A':1,'B':2,'C':3,'D':4,'E':5}\n",
        "ds=pd.Series(data)\n",
        "print(ds)\n",
        "print(ds.reindex(index=['B','A','C','D','E']))\n"
      ],
      "metadata": {
        "colab": {
          "base_uri": "https://localhost:8080/"
        },
        "id": "osjwlgvo5iaw",
        "outputId": "67d41ccc-ec97-4e83-e3f1-a4fa7b91dccf"
      },
      "execution_count": null,
      "outputs": [
        {
          "output_type": "stream",
          "name": "stdout",
          "text": [
            "A    1\n",
            "B    2\n",
            "C    3\n",
            "D    4\n",
            "E    5\n",
            "dtype: int64\n",
            "B    2\n",
            "A    1\n",
            "C    3\n",
            "D    4\n",
            "E    5\n",
            "dtype: int64\n"
          ]
        }
      ]
    },
    {
      "cell_type": "code",
      "source": [
        "# 16. Write a Pandas program to get the items of a given series not present in another given series.\n",
        "# Sample Output:\n",
        "# Original Series:\n",
        "# sr1:\n",
        "# 0    1\n",
        "# 1    2\n",
        "# 2    3\n",
        "# 3    4\n",
        "# 4    5\n",
        "# dtype: int64\n",
        "# sr2:\n",
        "# 0     2\n",
        "# 1     4\n",
        "# 2     6\n",
        "# 3     8\n",
        "# 4    10\n",
        "# dtype: int64\n",
        "\n",
        "# Items of sr1 not present in sr2:\n",
        "# 0    1\n",
        "# 2    3\n",
        "# 4    5\n",
        "# dtype: int64\n",
        "\n",
        "sr1=pd.Series([1,2,3,4,5])\n",
        "sr2=pd.Series([2,4,6,8,10])\n",
        "\n",
        "result=sr1[~sr1.isin(sr2)]\n",
        "result"
      ],
      "metadata": {
        "colab": {
          "base_uri": "https://localhost:8080/"
        },
        "id": "qD7F_znt5iuw",
        "outputId": "89fbea53-7aee-4cbb-8dd0-f2de5a933cec"
      },
      "execution_count": null,
      "outputs": [
        {
          "output_type": "execute_result",
          "data": {
            "text/plain": [
              "0    1\n",
              "2    3\n",
              "4    5\n",
              "dtype: int64"
            ]
          },
          "metadata": {},
          "execution_count": 10
        }
      ]
    },
    {
      "cell_type": "code",
      "source": [
        "# 17. Write a Pandas program to get the items which are not common of two given series.\n",
        "# Sample Output:\n",
        "# Original Series:\n",
        "# sr1:\n",
        "# 0    1\n",
        "# 1    2\n",
        "# 2    3\n",
        "# 3    4\n",
        "# 4    5\n",
        "# dtype: int64\n",
        "# sr2:\n",
        "# 0     2\n",
        "# 1     4\n",
        "# 2     6\n",
        "# 3     8\n",
        "# 4    10\n",
        "# dtype: int64\n",
        "\n",
        "# Items of a given series not present in another given series:\n",
        "# 0     1\n",
        "# 2     3\n",
        "# 4     5\n",
        "# 5     6\n",
        "# 6     8\n",
        "# 7    10\n",
        "\n",
        "sr1=pd.Series([1,2,3,4,5])\n",
        "sr2=pd.Series([2,4,6,8,10])\n",
        "\n",
        "s11=pd.Series(np.intersect1d(sr1,sr2))\n",
        "print(s11)\n",
        "s22=pd.Series(np.union1d(sr1,sr2))\n",
        "print(s22)\n",
        "result = s11[~s11.isin(s22)]\n",
        "print(result)"
      ],
      "metadata": {
        "colab": {
          "base_uri": "https://localhost:8080/"
        },
        "id": "B4pc6Ep-5iyZ",
        "outputId": "a9707384-34b8-4bab-ace4-142ebc02965c"
      },
      "execution_count": null,
      "outputs": [
        {
          "output_type": "stream",
          "name": "stdout",
          "text": [
            "0    2\n",
            "1    4\n",
            "dtype: int64\n",
            "0     1\n",
            "1     2\n",
            "2     3\n",
            "3     4\n",
            "4     5\n",
            "5     6\n",
            "6     8\n",
            "7    10\n",
            "dtype: int64\n",
            "Series([], dtype: int64)\n"
          ]
        }
      ]
    },
    {
      "cell_type": "code",
      "source": [
        "# 18. Write a Pandas program to compute the minimum, 25th percentile, median, 75th, and maximum of a given series.\n",
        "# Sample Output:\n",
        "# Original Series:\n",
        "# 0      3.000938\n",
        "# 1     11.370722\n",
        "# 2     14.612143\n",
        "\n",
        "# ....\n",
        "\n",
        "# 17    14.118931\n",
        "# 18     8.247458\n",
        "# 19     5.526727\n",
        "# dtype: float64\n",
        "\n",
        "# Minimum, 25th percentile, median, 75th, and maximum of a given series:\n",
        "# [ 3.00093811  8.09463867 10.23353705 12.21537733 14.61214321]\n",
        "\n",
        "import pandas as pd\n",
        "import numpy as np\n",
        "num_state = np.random.RandomState(100)\n",
        "num_series = pd.Series(num_state.normal(10, 4, 20))\n",
        "print(\"Original Series:\")\n",
        "print(num_series)\n",
        "result = np.percentile(num_series, q=[0, 25, 50, 75, 100])\n",
        "print(\"\\nMinimum, 25th percentile, median, 75th, and maximum of a given series:\")\n",
        "print(result)"
      ],
      "metadata": {
        "colab": {
          "base_uri": "https://localhost:8080/"
        },
        "id": "AonFZIVe5i16",
        "outputId": "ceb18886-f1e1-4ceb-9b0c-27cc1934bd9f"
      },
      "execution_count": null,
      "outputs": [
        {
          "output_type": "stream",
          "name": "stdout",
          "text": [
            "Original Series:\n",
            "0      3.000938\n",
            "1     11.370722\n",
            "2     14.612143\n",
            "3      8.990256\n",
            "4     13.925283\n",
            "5     12.056875\n",
            "6     10.884719\n",
            "7      5.719827\n",
            "8      9.242017\n",
            "9     11.020006\n",
            "10     8.167892\n",
            "11    11.740654\n",
            "12     7.665620\n",
            "13    13.267388\n",
            "14    12.690883\n",
            "15     9.582355\n",
            "16     7.874878\n",
            "17    14.118931\n",
            "18     8.247458\n",
            "19     5.526727\n",
            "dtype: float64\n",
            "\n",
            "Minimum, 25th percentile, median, 75th, and maximum of a given series:\n",
            "[ 3.00093811  8.09463867 10.23353705 12.21537733 14.61214321]\n"
          ]
        }
      ]
    },
    {
      "cell_type": "code",
      "source": [
        "# 19. Write a Pandas program to calculate the frequency counts of each unique value of a given series.\n",
        "# Sample Output:\n",
        "# Original Series:\n",
        "# 0     1\n",
        "# 1     7\n",
        "# 2     1\n",
        "# 3     6\n",
        "\n",
        "# ...\n",
        "\n",
        "\n",
        "# 37    0\n",
        "# 38    4\n",
        "# 39    8\n",
        "# dtype: object\n",
        "# Frequency of each unique value of the said series.\n",
        "# 0    9\n",
        "# 2    7\n",
        "# 9    6\n",
        "# ....\n",
        "# 3    2\n",
        "# 4    1\n",
        "# 5    1\n",
        "# dtype: int64\n",
        "\n",
        "num1=pd.Series(np.random.RandomState((10)))\n",
        "re=num1.normal(10,4,20)"
      ],
      "metadata": {
        "colab": {
          "base_uri": "https://localhost:8080/",
          "height": 297
        },
        "id": "YYU7nCBY5pW-",
        "outputId": "e89d3aea-8740-466e-907b-5b803e89ee59"
      },
      "execution_count": null,
      "outputs": [
        {
          "output_type": "error",
          "ename": "AttributeError",
          "evalue": "'Series' object has no attribute 'normal'",
          "traceback": [
            "\u001b[0;31m---------------------------------------------------------------------------\u001b[0m",
            "\u001b[0;31mAttributeError\u001b[0m                            Traceback (most recent call last)",
            "\u001b[0;32m<ipython-input-31-20445c6f9a2d>\u001b[0m in \u001b[0;36m<cell line: 27>\u001b[0;34m()\u001b[0m\n\u001b[1;32m     25\u001b[0m \u001b[0;34m\u001b[0m\u001b[0m\n\u001b[1;32m     26\u001b[0m \u001b[0mnum1\u001b[0m\u001b[0;34m=\u001b[0m\u001b[0mpd\u001b[0m\u001b[0;34m.\u001b[0m\u001b[0mSeries\u001b[0m\u001b[0;34m(\u001b[0m\u001b[0mnp\u001b[0m\u001b[0;34m.\u001b[0m\u001b[0mrandom\u001b[0m\u001b[0;34m.\u001b[0m\u001b[0mRandomState\u001b[0m\u001b[0;34m(\u001b[0m\u001b[0;34m(\u001b[0m\u001b[0;36m10\u001b[0m\u001b[0;34m)\u001b[0m\u001b[0;34m)\u001b[0m\u001b[0;34m)\u001b[0m\u001b[0;34m\u001b[0m\u001b[0;34m\u001b[0m\u001b[0m\n\u001b[0;32m---> 27\u001b[0;31m \u001b[0mre\u001b[0m\u001b[0;34m=\u001b[0m\u001b[0mnum1\u001b[0m\u001b[0;34m.\u001b[0m\u001b[0mnormal\u001b[0m\u001b[0;34m(\u001b[0m\u001b[0;36m10\u001b[0m\u001b[0;34m,\u001b[0m\u001b[0;36m4\u001b[0m\u001b[0;34m,\u001b[0m\u001b[0;36m20\u001b[0m\u001b[0;34m)\u001b[0m\u001b[0;34m\u001b[0m\u001b[0;34m\u001b[0m\u001b[0m\n\u001b[0m",
            "\u001b[0;32m/usr/local/lib/python3.10/dist-packages/pandas/core/generic.py\u001b[0m in \u001b[0;36m__getattr__\u001b[0;34m(self, name)\u001b[0m\n\u001b[1;32m   5987\u001b[0m         ):\n\u001b[1;32m   5988\u001b[0m             \u001b[0;32mreturn\u001b[0m \u001b[0mself\u001b[0m\u001b[0;34m[\u001b[0m\u001b[0mname\u001b[0m\u001b[0;34m]\u001b[0m\u001b[0;34m\u001b[0m\u001b[0;34m\u001b[0m\u001b[0m\n\u001b[0;32m-> 5989\u001b[0;31m         \u001b[0;32mreturn\u001b[0m \u001b[0mobject\u001b[0m\u001b[0;34m.\u001b[0m\u001b[0m__getattribute__\u001b[0m\u001b[0;34m(\u001b[0m\u001b[0mself\u001b[0m\u001b[0;34m,\u001b[0m \u001b[0mname\u001b[0m\u001b[0;34m)\u001b[0m\u001b[0;34m\u001b[0m\u001b[0;34m\u001b[0m\u001b[0m\n\u001b[0m\u001b[1;32m   5990\u001b[0m \u001b[0;34m\u001b[0m\u001b[0m\n\u001b[1;32m   5991\u001b[0m     \u001b[0;32mdef\u001b[0m \u001b[0m__setattr__\u001b[0m\u001b[0;34m(\u001b[0m\u001b[0mself\u001b[0m\u001b[0;34m,\u001b[0m \u001b[0mname\u001b[0m\u001b[0;34m:\u001b[0m \u001b[0mstr\u001b[0m\u001b[0;34m,\u001b[0m \u001b[0mvalue\u001b[0m\u001b[0;34m)\u001b[0m \u001b[0;34m->\u001b[0m \u001b[0;32mNone\u001b[0m\u001b[0;34m:\u001b[0m\u001b[0;34m\u001b[0m\u001b[0;34m\u001b[0m\u001b[0m\n",
            "\u001b[0;31mAttributeError\u001b[0m: 'Series' object has no attribute 'normal'"
          ]
        }
      ]
    },
    {
      "cell_type": "code",
      "source": [],
      "metadata": {
        "id": "pnGYV8c95pLM"
      },
      "execution_count": null,
      "outputs": []
    }
  ]
}